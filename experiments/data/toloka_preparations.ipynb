{
 "cells": [
  {
   "cell_type": "code",
   "execution_count": 52,
   "id": "cf5e9efe-de99-4afc-b3ab-d45581d6a1aa",
   "metadata": {},
   "outputs": [],
   "source": [
    "import os\n",
    "import pandas as pd\n",
    "import numpy as np"
   ]
  },
  {
   "cell_type": "code",
   "execution_count": 53,
   "id": "06788c96-acc1-479a-a1ea-c37dd6e46209",
   "metadata": {},
   "outputs": [],
   "source": [
    "receipts_path = '../receipts/initial'"
   ]
  },
  {
   "cell_type": "code",
   "execution_count": 54,
   "id": "384debbd-8687-4f2a-9541-2614d56fa845",
   "metadata": {},
   "outputs": [
    {
     "data": {
      "text/plain": [
       "['0000.jpg', '0001.jpg', '0002.jpg', '0003.jpg', '0004.jpg']"
      ]
     },
     "execution_count": 54,
     "metadata": {},
     "output_type": "execute_result"
    }
   ],
   "source": [
    "receipt_files = sorted([obj for obj in os.listdir(receipts_path) \n",
    "                        if os.path.isfile(os.path.join(receipts_path, obj))])\n",
    "receipt_files[:5]"
   ]
  },
  {
   "cell_type": "code",
   "execution_count": 55,
   "id": "5d85321c-5341-44c4-b9f6-4a9fcd02a98e",
   "metadata": {},
   "outputs": [],
   "source": [
    "for i, file in enumerate(receipt_files):\n",
    "    os.rename(os.path.join(receipts_path, file), os.path.join(receipts_path, f'{str(i).zfill(4)}.{file.split(\".\")[-1]}'))"
   ]
  },
  {
   "cell_type": "code",
   "execution_count": 56,
   "id": "4363aaf3-5689-40de-807e-1c0a583687b3",
   "metadata": {},
   "outputs": [
    {
     "data": {
      "text/plain": [
       "['0000.jpg', '0001.jpg', '0002.jpg', '0003.jpg', '0004.jpg']"
      ]
     },
     "execution_count": 56,
     "metadata": {},
     "output_type": "execute_result"
    }
   ],
   "source": [
    "receipt_files = sorted([obj for obj in os.listdir(receipts_path) \n",
    "                        if os.path.isfile(os.path.join(receipts_path, obj))])\n",
    "receipt_files[:5]"
   ]
  },
  {
   "cell_type": "code",
   "execution_count": 57,
   "id": "efbc4d35-4d62-482c-98da-db188896afb3",
   "metadata": {},
   "outputs": [],
   "source": [
    "receipt_files = np.array(receipt_files, dtype=object)\n",
    "disk_receipt_files = '/receipts/initial/' + receipt_files"
   ]
  },
  {
   "cell_type": "code",
   "execution_count": 58,
   "id": "bf698f0d-c933-4ebf-ac81-ad0d1c64da10",
   "metadata": {},
   "outputs": [],
   "source": [
    "data = pd.Series(disk_receipt_files, name='INPUT:image_url')"
   ]
  },
  {
   "cell_type": "code",
   "execution_count": 59,
   "id": "4569e7fe-a35b-4aed-9884-39d5be72df7b",
   "metadata": {},
   "outputs": [
    {
     "data": {
      "text/plain": [
       "0        /receipts/initial/0000.jpg\n",
       "1        /receipts/initial/0001.jpg\n",
       "2        /receipts/initial/0002.jpg\n",
       "3        /receipts/initial/0003.jpg\n",
       "4        /receipts/initial/0004.jpg\n",
       "                   ...             \n",
       "4775     /receipts/initial/4775.jpg\n",
       "4776     /receipts/initial/4776.jpg\n",
       "4777     /receipts/initial/4777.jpg\n",
       "4778     /receipts/initial/4778.jpg\n",
       "4779    /receipts/initial/4779.jpeg\n",
       "Name: INPUT:image_url, Length: 4780, dtype: object"
      ]
     },
     "execution_count": 59,
     "metadata": {},
     "output_type": "execute_result"
    }
   ],
   "source": [
    "data"
   ]
  },
  {
   "cell_type": "code",
   "execution_count": 60,
   "id": "fd7fb52c-b37b-4b37-a013-87fd8f63c172",
   "metadata": {},
   "outputs": [],
   "source": [
    "data.to_csv('input_data.tsv', sep='\\t', index=None)"
   ]
  },
  {
   "cell_type": "code",
   "execution_count": null,
   "id": "c149c623-11a7-465c-bd07-147167a98a2c",
   "metadata": {},
   "outputs": [],
   "source": []
  }
 ],
 "metadata": {
  "kernelspec": {
   "display_name": "Python 3 (ipykernel)",
   "language": "python",
   "name": "python3"
  },
  "language_info": {
   "codemirror_mode": {
    "name": "ipython",
    "version": 3
   },
   "file_extension": ".py",
   "mimetype": "text/x-python",
   "name": "python",
   "nbconvert_exporter": "python",
   "pygments_lexer": "ipython3",
   "version": "3.9.0"
  }
 },
 "nbformat": 4,
 "nbformat_minor": 5
}
